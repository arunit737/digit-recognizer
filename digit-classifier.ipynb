{
 "cells": [
  {
   "cell_type": "code",
   "execution_count": 1,
   "metadata": {
    "_cell_guid": "b1076dfc-b9ad-4769-8c92-a6c4dae69d19",
    "_uuid": "8f2839f25d086af736a60e9eeb907d3b93b6e0e5",
    "execution": {
     "iopub.execute_input": "2021-02-13T17:16:07.066788Z",
     "iopub.status.busy": "2021-02-13T17:16:07.065829Z",
     "iopub.status.idle": "2021-02-13T17:16:07.071140Z",
     "shell.execute_reply": "2021-02-13T17:16:07.070502Z"
    },
    "papermill": {
     "duration": 0.029324,
     "end_time": "2021-02-13T17:16:07.071339",
     "exception": false,
     "start_time": "2021-02-13T17:16:07.042015",
     "status": "completed"
    },
    "tags": []
   },
   "outputs": [
    {
     "name": "stdout",
     "output_type": "stream",
     "text": [
      "/kaggle/input/digit-recognizer/sample_submission.csv\n",
      "/kaggle/input/digit-recognizer/train.csv\n",
      "/kaggle/input/digit-recognizer/test.csv\n"
     ]
    }
   ],
   "source": [
    "# This Python 3 environment comes with many helpful analytics libraries installed\n",
    "# It is defined by the kaggle/python Docker image: https://github.com/kaggle/docker-python\n",
    "# For example, here's several helpful packages to load\n",
    "\n",
    "import numpy as np # linear algebra\n",
    "import pandas as pd # data processing, CSV file I/O (e.g. pd.read_csv)\n",
    "\n",
    "# Input data files are available in the read-only \"../input/\" directory\n",
    "# For example, running this (by clicking run or pressing Shift+Enter) will list all files under the input directory\n",
    "\n",
    "import os\n",
    "for dirname, _, filenames in os.walk('/kaggle/input'):\n",
    "    for filename in filenames:\n",
    "        print(os.path.join(dirname, filename))\n",
    "\n",
    "# You can write up to 20GB to the current directory (/kaggle/working/) that gets preserved as output when you create a version using \"Save & Run All\" \n",
    "# You can also write temporary files to /kaggle/temp/, but they won't be saved outside of the current session"
   ]
  },
  {
   "cell_type": "code",
   "execution_count": 2,
   "metadata": {
    "execution": {
     "iopub.execute_input": "2021-02-13T17:16:07.111527Z",
     "iopub.status.busy": "2021-02-13T17:16:07.110849Z",
     "iopub.status.idle": "2021-02-13T17:16:10.301250Z",
     "shell.execute_reply": "2021-02-13T17:16:10.301742Z"
    },
    "papermill": {
     "duration": 3.212587,
     "end_time": "2021-02-13T17:16:10.301911",
     "exception": false,
     "start_time": "2021-02-13T17:16:07.089324",
     "status": "completed"
    },
    "tags": []
   },
   "outputs": [
    {
     "data": {
      "text/html": [
       "<div>\n",
       "<style scoped>\n",
       "    .dataframe tbody tr th:only-of-type {\n",
       "        vertical-align: middle;\n",
       "    }\n",
       "\n",
       "    .dataframe tbody tr th {\n",
       "        vertical-align: top;\n",
       "    }\n",
       "\n",
       "    .dataframe thead th {\n",
       "        text-align: right;\n",
       "    }\n",
       "</style>\n",
       "<table border=\"1\" class=\"dataframe\">\n",
       "  <thead>\n",
       "    <tr style=\"text-align: right;\">\n",
       "      <th></th>\n",
       "      <th>label</th>\n",
       "      <th>pixel0</th>\n",
       "      <th>pixel1</th>\n",
       "      <th>pixel2</th>\n",
       "      <th>pixel3</th>\n",
       "      <th>pixel4</th>\n",
       "      <th>pixel5</th>\n",
       "      <th>pixel6</th>\n",
       "      <th>pixel7</th>\n",
       "      <th>pixel8</th>\n",
       "      <th>...</th>\n",
       "      <th>pixel774</th>\n",
       "      <th>pixel775</th>\n",
       "      <th>pixel776</th>\n",
       "      <th>pixel777</th>\n",
       "      <th>pixel778</th>\n",
       "      <th>pixel779</th>\n",
       "      <th>pixel780</th>\n",
       "      <th>pixel781</th>\n",
       "      <th>pixel782</th>\n",
       "      <th>pixel783</th>\n",
       "    </tr>\n",
       "  </thead>\n",
       "  <tbody>\n",
       "    <tr>\n",
       "      <th>0</th>\n",
       "      <td>1</td>\n",
       "      <td>0</td>\n",
       "      <td>0</td>\n",
       "      <td>0</td>\n",
       "      <td>0</td>\n",
       "      <td>0</td>\n",
       "      <td>0</td>\n",
       "      <td>0</td>\n",
       "      <td>0</td>\n",
       "      <td>0</td>\n",
       "      <td>...</td>\n",
       "      <td>0</td>\n",
       "      <td>0</td>\n",
       "      <td>0</td>\n",
       "      <td>0</td>\n",
       "      <td>0</td>\n",
       "      <td>0</td>\n",
       "      <td>0</td>\n",
       "      <td>0</td>\n",
       "      <td>0</td>\n",
       "      <td>0</td>\n",
       "    </tr>\n",
       "    <tr>\n",
       "      <th>1</th>\n",
       "      <td>0</td>\n",
       "      <td>0</td>\n",
       "      <td>0</td>\n",
       "      <td>0</td>\n",
       "      <td>0</td>\n",
       "      <td>0</td>\n",
       "      <td>0</td>\n",
       "      <td>0</td>\n",
       "      <td>0</td>\n",
       "      <td>0</td>\n",
       "      <td>...</td>\n",
       "      <td>0</td>\n",
       "      <td>0</td>\n",
       "      <td>0</td>\n",
       "      <td>0</td>\n",
       "      <td>0</td>\n",
       "      <td>0</td>\n",
       "      <td>0</td>\n",
       "      <td>0</td>\n",
       "      <td>0</td>\n",
       "      <td>0</td>\n",
       "    </tr>\n",
       "    <tr>\n",
       "      <th>2</th>\n",
       "      <td>1</td>\n",
       "      <td>0</td>\n",
       "      <td>0</td>\n",
       "      <td>0</td>\n",
       "      <td>0</td>\n",
       "      <td>0</td>\n",
       "      <td>0</td>\n",
       "      <td>0</td>\n",
       "      <td>0</td>\n",
       "      <td>0</td>\n",
       "      <td>...</td>\n",
       "      <td>0</td>\n",
       "      <td>0</td>\n",
       "      <td>0</td>\n",
       "      <td>0</td>\n",
       "      <td>0</td>\n",
       "      <td>0</td>\n",
       "      <td>0</td>\n",
       "      <td>0</td>\n",
       "      <td>0</td>\n",
       "      <td>0</td>\n",
       "    </tr>\n",
       "    <tr>\n",
       "      <th>3</th>\n",
       "      <td>4</td>\n",
       "      <td>0</td>\n",
       "      <td>0</td>\n",
       "      <td>0</td>\n",
       "      <td>0</td>\n",
       "      <td>0</td>\n",
       "      <td>0</td>\n",
       "      <td>0</td>\n",
       "      <td>0</td>\n",
       "      <td>0</td>\n",
       "      <td>...</td>\n",
       "      <td>0</td>\n",
       "      <td>0</td>\n",
       "      <td>0</td>\n",
       "      <td>0</td>\n",
       "      <td>0</td>\n",
       "      <td>0</td>\n",
       "      <td>0</td>\n",
       "      <td>0</td>\n",
       "      <td>0</td>\n",
       "      <td>0</td>\n",
       "    </tr>\n",
       "    <tr>\n",
       "      <th>4</th>\n",
       "      <td>0</td>\n",
       "      <td>0</td>\n",
       "      <td>0</td>\n",
       "      <td>0</td>\n",
       "      <td>0</td>\n",
       "      <td>0</td>\n",
       "      <td>0</td>\n",
       "      <td>0</td>\n",
       "      <td>0</td>\n",
       "      <td>0</td>\n",
       "      <td>...</td>\n",
       "      <td>0</td>\n",
       "      <td>0</td>\n",
       "      <td>0</td>\n",
       "      <td>0</td>\n",
       "      <td>0</td>\n",
       "      <td>0</td>\n",
       "      <td>0</td>\n",
       "      <td>0</td>\n",
       "      <td>0</td>\n",
       "      <td>0</td>\n",
       "    </tr>\n",
       "  </tbody>\n",
       "</table>\n",
       "<p>5 rows × 785 columns</p>\n",
       "</div>"
      ],
      "text/plain": [
       "   label  pixel0  pixel1  pixel2  pixel3  pixel4  pixel5  pixel6  pixel7  \\\n",
       "0      1       0       0       0       0       0       0       0       0   \n",
       "1      0       0       0       0       0       0       0       0       0   \n",
       "2      1       0       0       0       0       0       0       0       0   \n",
       "3      4       0       0       0       0       0       0       0       0   \n",
       "4      0       0       0       0       0       0       0       0       0   \n",
       "\n",
       "   pixel8  ...  pixel774  pixel775  pixel776  pixel777  pixel778  pixel779  \\\n",
       "0       0  ...         0         0         0         0         0         0   \n",
       "1       0  ...         0         0         0         0         0         0   \n",
       "2       0  ...         0         0         0         0         0         0   \n",
       "3       0  ...         0         0         0         0         0         0   \n",
       "4       0  ...         0         0         0         0         0         0   \n",
       "\n",
       "   pixel780  pixel781  pixel782  pixel783  \n",
       "0         0         0         0         0  \n",
       "1         0         0         0         0  \n",
       "2         0         0         0         0  \n",
       "3         0         0         0         0  \n",
       "4         0         0         0         0  \n",
       "\n",
       "[5 rows x 785 columns]"
      ]
     },
     "execution_count": 2,
     "metadata": {},
     "output_type": "execute_result"
    }
   ],
   "source": [
    "# reading data\n",
    "df = pd.read_csv(\"/kaggle/input/digit-recognizer/train.csv\")\n",
    "df.head()"
   ]
  },
  {
   "cell_type": "code",
   "execution_count": 3,
   "metadata": {
    "execution": {
     "iopub.execute_input": "2021-02-13T17:16:10.342885Z",
     "iopub.status.busy": "2021-02-13T17:16:10.341884Z",
     "iopub.status.idle": "2021-02-13T17:16:10.397036Z",
     "shell.execute_reply": "2021-02-13T17:16:10.397450Z"
    },
    "papermill": {
     "duration": 0.077929,
     "end_time": "2021-02-13T17:16:10.397657",
     "exception": false,
     "start_time": "2021-02-13T17:16:10.319728",
     "status": "completed"
    },
    "tags": []
   },
   "outputs": [
    {
     "data": {
      "text/plain": [
       "label       0\n",
       "pixel0      0\n",
       "pixel1      0\n",
       "pixel2      0\n",
       "pixel3      0\n",
       "           ..\n",
       "pixel779    0\n",
       "pixel780    0\n",
       "pixel781    0\n",
       "pixel782    0\n",
       "pixel783    0\n",
       "Length: 785, dtype: int64"
      ]
     },
     "execution_count": 3,
     "metadata": {},
     "output_type": "execute_result"
    }
   ],
   "source": [
    "df.isna().sum()  # checking null values"
   ]
  },
  {
   "cell_type": "code",
   "execution_count": 4,
   "metadata": {
    "execution": {
     "iopub.execute_input": "2021-02-13T17:16:10.438240Z",
     "iopub.status.busy": "2021-02-13T17:16:10.437659Z",
     "iopub.status.idle": "2021-02-13T17:16:10.479793Z",
     "shell.execute_reply": "2021-02-13T17:16:10.480425Z"
    },
    "papermill": {
     "duration": 0.06396,
     "end_time": "2021-02-13T17:16:10.480676",
     "exception": false,
     "start_time": "2021-02-13T17:16:10.416716",
     "status": "completed"
    },
    "tags": []
   },
   "outputs": [
    {
     "name": "stdout",
     "output_type": "stream",
     "text": [
      "<class 'pandas.core.frame.DataFrame'>\n",
      "RangeIndex: 42000 entries, 0 to 41999\n",
      "Columns: 785 entries, label to pixel783\n",
      "dtypes: int64(785)\n",
      "memory usage: 251.5 MB\n"
     ]
    }
   ],
   "source": [
    "df.info()"
   ]
  },
  {
   "cell_type": "code",
   "execution_count": 5,
   "metadata": {
    "execution": {
     "iopub.execute_input": "2021-02-13T17:16:10.525084Z",
     "iopub.status.busy": "2021-02-13T17:16:10.524285Z",
     "iopub.status.idle": "2021-02-13T17:16:11.639196Z",
     "shell.execute_reply": "2021-02-13T17:16:11.639693Z"
    },
    "papermill": {
     "duration": 1.138825,
     "end_time": "2021-02-13T17:16:11.639885",
     "exception": false,
     "start_time": "2021-02-13T17:16:10.501060",
     "status": "completed"
    },
    "tags": []
   },
   "outputs": [],
   "source": [
    "from sklearn.decomposition import PCA\n",
    "from sklearn.pipeline import make_pipeline\n",
    "from sklearn.preprocessing import StandardScaler\n",
    "from sklearn.linear_model import LogisticRegression\n",
    "from sklearn.model_selection import train_test_split\n",
    "from sklearn.model_selection import GridSearchCV\n",
    "from sklearn.metrics import accuracy_score"
   ]
  },
  {
   "cell_type": "code",
   "execution_count": 6,
   "metadata": {
    "execution": {
     "iopub.execute_input": "2021-02-13T17:16:11.681297Z",
     "iopub.status.busy": "2021-02-13T17:16:11.680349Z",
     "iopub.status.idle": "2021-02-13T17:16:11.791052Z",
     "shell.execute_reply": "2021-02-13T17:16:11.791554Z"
    },
    "papermill": {
     "duration": 0.13311,
     "end_time": "2021-02-13T17:16:11.791727",
     "exception": false,
     "start_time": "2021-02-13T17:16:11.658617",
     "status": "completed"
    },
    "tags": []
   },
   "outputs": [],
   "source": [
    "# dividing data into X and Y\n",
    "X=df.drop('label',axis=1)\n",
    "y=df['label']\n"
   ]
  },
  {
   "cell_type": "code",
   "execution_count": 7,
   "metadata": {
    "execution": {
     "iopub.execute_input": "2021-02-13T17:16:11.832905Z",
     "iopub.status.busy": "2021-02-13T17:16:11.831995Z",
     "iopub.status.idle": "2021-02-13T17:16:11.838337Z",
     "shell.execute_reply": "2021-02-13T17:16:11.837766Z"
    },
    "papermill": {
     "duration": 0.028071,
     "end_time": "2021-02-13T17:16:11.838499",
     "exception": false,
     "start_time": "2021-02-13T17:16:11.810428",
     "status": "completed"
    },
    "tags": []
   },
   "outputs": [
    {
     "name": "stdout",
     "output_type": "stream",
     "text": [
      "(42000, 784)\n",
      "(42000,)\n"
     ]
    }
   ],
   "source": [
    "print(X.shape)\n",
    "print(y.shape)"
   ]
  },
  {
   "cell_type": "code",
   "execution_count": 8,
   "metadata": {
    "execution": {
     "iopub.execute_input": "2021-02-13T17:16:11.883970Z",
     "iopub.status.busy": "2021-02-13T17:16:11.883315Z",
     "iopub.status.idle": "2021-02-13T17:16:12.166703Z",
     "shell.execute_reply": "2021-02-13T17:16:12.166186Z"
    },
    "papermill": {
     "duration": 0.308725,
     "end_time": "2021-02-13T17:16:12.166848",
     "exception": false,
     "start_time": "2021-02-13T17:16:11.858123",
     "status": "completed"
    },
    "tags": []
   },
   "outputs": [],
   "source": [
    "# dividing into train test data\n",
    "X_train,X_test,y_train,y_test=train_test_split(X,y,test_size=0.3,random_state=100)"
   ]
  },
  {
   "cell_type": "code",
   "execution_count": 9,
   "metadata": {
    "execution": {
     "iopub.execute_input": "2021-02-13T17:16:12.210506Z",
     "iopub.status.busy": "2021-02-13T17:16:12.209589Z",
     "iopub.status.idle": "2021-02-13T17:16:12.213327Z",
     "shell.execute_reply": "2021-02-13T17:16:12.212751Z"
    },
    "papermill": {
     "duration": 0.027249,
     "end_time": "2021-02-13T17:16:12.213479",
     "exception": false,
     "start_time": "2021-02-13T17:16:12.186230",
     "status": "completed"
    },
    "tags": []
   },
   "outputs": [
    {
     "name": "stdout",
     "output_type": "stream",
     "text": [
      "(29400, 784)\n",
      "(12600, 784)\n"
     ]
    }
   ],
   "source": [
    "print(X_train.shape)\n",
    "print(X_test.shape)"
   ]
  },
  {
   "cell_type": "code",
   "execution_count": 10,
   "metadata": {
    "execution": {
     "iopub.execute_input": "2021-02-13T17:16:12.270371Z",
     "iopub.status.busy": "2021-02-13T17:16:12.266743Z",
     "iopub.status.idle": "2021-02-13T17:16:12.412671Z",
     "shell.execute_reply": "2021-02-13T17:16:12.413398Z"
    },
    "papermill": {
     "duration": 0.180644,
     "end_time": "2021-02-13T17:16:12.413675",
     "exception": false,
     "start_time": "2021-02-13T17:16:12.233031",
     "status": "completed"
    },
    "tags": []
   },
   "outputs": [
    {
     "data": {
      "image/png": "[encoded data removed]",
      "text/plain": [
       "<Figure size 432x288 with 1 Axes>"
      ]
     },
     "metadata": {
      "needs_background": "light"
     },
     "output_type": "display_data"
    }
   ],
   "source": [
    "import matplotlib.pyplot as plt\n",
    "digit1=X_train.values[3].reshape(28,28)\n",
    "plt.imshow(digit1)\n",
    "plt.show()"
   ]
  },
  {
   "cell_type": "code",
   "execution_count": 11,
   "metadata": {
    "execution": {
     "iopub.execute_input": "2021-02-13T17:16:12.482131Z",
     "iopub.status.busy": "2021-02-13T17:16:12.481503Z",
     "iopub.status.idle": "2021-02-13T17:16:12.488191Z",
     "shell.execute_reply": "2021-02-13T17:16:12.488696Z"
    },
    "papermill": {
     "duration": 0.03831,
     "end_time": "2021-02-13T17:16:12.488861",
     "exception": false,
     "start_time": "2021-02-13T17:16:12.450551",
     "status": "completed"
    },
    "tags": []
   },
   "outputs": [
    {
     "data": {
      "text/plain": [
       "3"
      ]
     },
     "execution_count": 11,
     "metadata": {},
     "output_type": "execute_result"
    }
   ],
   "source": [
    "# checking target corresponding to 4th index 32294\n",
    "y_train[32294]"
   ]
  },
  {
   "cell_type": "code",
   "execution_count": 12,
   "metadata": {
    "execution": {
     "iopub.execute_input": "2021-02-13T17:16:12.537330Z",
     "iopub.status.busy": "2021-02-13T17:16:12.536439Z",
     "iopub.status.idle": "2021-02-13T17:16:16.276789Z",
     "shell.execute_reply": "2021-02-13T17:16:16.276143Z"
    },
    "papermill": {
     "duration": 3.764483,
     "end_time": "2021-02-13T17:16:16.276927",
     "exception": false,
     "start_time": "2021-02-13T17:16:12.512444",
     "status": "completed"
    },
    "tags": []
   },
   "outputs": [
    {
     "data": {
      "text/plain": [
       "Pipeline(steps=[('standardscaler', StandardScaler()), ('pca', PCA())])"
      ]
     },
     "execution_count": 12,
     "metadata": {},
     "output_type": "execute_result"
    }
   ],
   "source": [
    "\n",
    "pipe=make_pipeline(StandardScaler(),PCA())  # pipeline to standardize and pca with all components\n",
    "pipe.fit(X_train)\n"
   ]
  },
  {
   "cell_type": "code",
   "execution_count": 13,
   "metadata": {
    "execution": {
     "iopub.execute_input": "2021-02-13T17:16:16.354505Z",
     "iopub.status.busy": "2021-02-13T17:16:16.347998Z",
     "iopub.status.idle": "2021-02-13T17:16:16.521986Z",
     "shell.execute_reply": "2021-02-13T17:16:16.521388Z"
    },
    "papermill": {
     "duration": 0.224169,
     "end_time": "2021-02-13T17:16:16.522150",
     "exception": false,
     "start_time": "2021-02-13T17:16:16.297981",
     "status": "completed"
    },
    "tags": []
   },
   "outputs": [
    {
     "data": {
      "text/plain": [
       "<matplotlib.legend.Legend at 0x7f2c02c08fd0>"
      ]
     },
     "execution_count": 13,
     "metadata": {},
     "output_type": "execute_result"
    },
    {
     "data": {
      "image/png": "[encoded data removed]",
      "text/plain": [
       "<Figure size 576x576 with 1 Axes>"
      ]
     },
     "metadata": {
      "needs_background": "light"
     },
     "output_type": "display_data"
    }
   ],
   "source": [
    "# we will check the number of components required toget 95% explained variance\n",
    "variance=pipe.named_steps['pca'].explained_variance_ratio_\n",
    "cumvar=np.cumsum(variance)*100\n",
    "plt.figure(figsize=(8,8))\n",
    "plt.plot(range(1,len(cumvar)+1),cumvar,color='red',label='cumulative')\n",
    "plt.title('Cumulative Explained Variance as a Function of the Number of Components')\n",
    "plt.ylabel('Cumulative Explained variance')\n",
    "plt.xlabel('Principal components')\n",
    "plt.axhline(y = 95, color='k', linestyle='--', label = '95% Explained Variance')\n",
    "plt.legend(loc='best')"
   ]
  },
  {
   "cell_type": "code",
   "execution_count": 14,
   "metadata": {
    "execution": {
     "iopub.execute_input": "2021-02-13T17:16:16.579198Z",
     "iopub.status.busy": "2021-02-13T17:16:16.578481Z",
     "iopub.status.idle": "2021-02-13T17:16:20.796105Z",
     "shell.execute_reply": "2021-02-13T17:16:20.797184Z"
    },
    "papermill": {
     "duration": 4.252758,
     "end_time": "2021-02-13T17:16:20.797450",
     "exception": false,
     "start_time": "2021-02-13T17:16:16.544692",
     "status": "completed"
    },
    "tags": []
   },
   "outputs": [],
   "source": [
    "# applying pca pipeline on train and test data with 95 % explained variance'\n",
    "pipe=make_pipeline(StandardScaler(),PCA(0.95))\n",
    "pipe.fit(X_train)\n",
    "X_train_pca=pipe.transform(X_train)\n",
    "X_test_pca=pipe.transform(X_test)"
   ]
  },
  {
   "cell_type": "code",
   "execution_count": 15,
   "metadata": {
    "execution": {
     "iopub.execute_input": "2021-02-13T17:16:20.889006Z",
     "iopub.status.busy": "2021-02-13T17:16:20.888050Z",
     "iopub.status.idle": "2021-02-13T17:16:20.894136Z",
     "shell.execute_reply": "2021-02-13T17:16:20.892516Z"
    },
    "papermill": {
     "duration": 0.05436,
     "end_time": "2021-02-13T17:16:20.894523",
     "exception": false,
     "start_time": "2021-02-13T17:16:20.840163",
     "status": "completed"
    },
    "tags": []
   },
   "outputs": [
    {
     "name": "stdout",
     "output_type": "stream",
     "text": [
      "(29400, 311)\n"
     ]
    }
   ],
   "source": [
    "# checking data\n",
    "print(X_train_pca.shape)"
   ]
  },
  {
   "cell_type": "code",
   "execution_count": 16,
   "metadata": {
    "execution": {
     "iopub.execute_input": "2021-02-13T17:16:20.963477Z",
     "iopub.status.busy": "2021-02-13T17:16:20.962512Z",
     "iopub.status.idle": "2021-02-13T17:16:21.211247Z",
     "shell.execute_reply": "2021-02-13T17:16:21.211867Z"
    },
    "papermill": {
     "duration": 0.279168,
     "end_time": "2021-02-13T17:16:21.212033",
     "exception": false,
     "start_time": "2021-02-13T17:16:20.932865",
     "status": "completed"
    },
    "tags": []
   },
   "outputs": [
    {
     "data": {
      "text/plain": [
       "<matplotlib.image.AxesImage at 0x7f2c02ae7ed0>"
      ]
     },
     "execution_count": 16,
     "metadata": {},
     "output_type": "execute_result"
    },
    {
     "data": {
      "image/png": "[encoded data removed]",
      "text/plain": [
       "<Figure size 432x288 with 2 Axes>"
      ]
     },
     "metadata": {
      "needs_background": "light"
     },
     "output_type": "display_data"
    }
   ],
   "source": [
    "# checking image quality before and after compression\n",
    "sample = X_train.values[3]\n",
    "sample.shape = (28,28)\n",
    "\n",
    "\n",
    "a = plt.subplot(1,2,1)\n",
    "a.set_title('Original Image')\n",
    "plt.imshow(sample, cmap = plt.cm.gray_r)\n",
    "\n",
    "sample = pipe.named_steps['pca'].inverse_transform(X_train_pca[3])\n",
    "sample.shape = (28,28)\n",
    "\n",
    "b = plt.subplot(1,2,2)\n",
    "b.set_title(\"Reduced after PCA\")\n",
    "plt.imshow(sample, cmap = plt.cm.gray_r)"
   ]
  },
  {
   "cell_type": "code",
   "execution_count": 17,
   "metadata": {
    "execution": {
     "iopub.execute_input": "2021-02-13T17:16:21.262244Z",
     "iopub.status.busy": "2021-02-13T17:16:21.261370Z",
     "iopub.status.idle": "2021-02-13T17:16:21.266061Z",
     "shell.execute_reply": "2021-02-13T17:16:21.265625Z"
    },
    "papermill": {
     "duration": 0.030824,
     "end_time": "2021-02-13T17:16:21.266188",
     "exception": false,
     "start_time": "2021-02-13T17:16:21.235364",
     "status": "completed"
    },
    "tags": []
   },
   "outputs": [],
   "source": [
    "# creating parameters for grid search \n",
    "params=[{'penalty': ['l2'],\n",
    "         'C': [1.25,1.5],\n",
    "         'solver': ['lbfgs']}\n",
    "       ] \n",
    "\n"
   ]
  },
  {
   "cell_type": "code",
   "execution_count": 18,
   "metadata": {
    "execution": {
     "iopub.execute_input": "2021-02-13T17:16:21.318671Z",
     "iopub.status.busy": "2021-02-13T17:16:21.317958Z",
     "iopub.status.idle": "2021-02-13T17:16:21.321060Z",
     "shell.execute_reply": "2021-02-13T17:16:21.320511Z"
    },
    "papermill": {
     "duration": 0.031616,
     "end_time": "2021-02-13T17:16:21.321185",
     "exception": false,
     "start_time": "2021-02-13T17:16:21.289569",
     "status": "completed"
    },
    "tags": []
   },
   "outputs": [],
   "source": [
    "grid=GridSearchCV(estimator=LogisticRegression(random_state=42,n_jobs=-1),param_grid=params,scoring='accuracy',n_jobs=-1,verbose=5)\n"
   ]
  },
  {
   "cell_type": "code",
   "execution_count": 19,
   "metadata": {
    "execution": {
     "iopub.execute_input": "2021-02-13T17:16:21.374493Z",
     "iopub.status.busy": "2021-02-13T17:16:21.373905Z",
     "iopub.status.idle": "2021-02-13T17:16:21.377047Z",
     "shell.execute_reply": "2021-02-13T17:16:21.376489Z"
    },
    "papermill": {
     "duration": 0.032453,
     "end_time": "2021-02-13T17:16:21.377179",
     "exception": false,
     "start_time": "2021-02-13T17:16:21.344726",
     "status": "completed"
    },
    "tags": []
   },
   "outputs": [
    {
     "data": {
      "text/plain": [
       "GridSearchCV(estimator=LogisticRegression(n_jobs=-1, random_state=42),\n",
       "             n_jobs=-1,\n",
       "             param_grid=[{'C': [1.25, 1.5], 'penalty': ['l2'],\n",
       "                          'solver': ['lbfgs']}],\n",
       "             scoring='accuracy', verbose=5)"
      ]
     },
     "execution_count": 19,
     "metadata": {},
     "output_type": "execute_result"
    }
   ],
   "source": [
    "grid"
   ]
  },
  {
   "cell_type": "code",
   "execution_count": 20,
   "metadata": {
    "execution": {
     "iopub.execute_input": "2021-02-13T17:16:21.429570Z",
     "iopub.status.busy": "2021-02-13T17:16:21.428980Z",
     "iopub.status.idle": "2021-02-13T17:16:52.145213Z",
     "shell.execute_reply": "2021-02-13T17:16:52.145736Z"
    },
    "papermill": {
     "duration": 30.744808,
     "end_time": "2021-02-13T17:16:52.145910",
     "exception": false,
     "start_time": "2021-02-13T17:16:21.401102",
     "status": "completed"
    },
    "tags": []
   },
   "outputs": [
    {
     "name": "stdout",
     "output_type": "stream",
     "text": [
      "Fitting 5 folds for each of 2 candidates, totalling 10 fits\n"
     ]
    },
    {
     "name": "stderr",
     "output_type": "stream",
     "text": [
      "[Parallel(n_jobs=-1)]: Using backend LokyBackend with 4 concurrent workers.\n",
      "[Parallel(n_jobs=-1)]: Done   6 out of  10 | elapsed:   15.5s remaining:   10.4s\n",
      "[Parallel(n_jobs=-1)]: Done  10 out of  10 | elapsed:   19.5s finished\n"
     ]
    },
    {
     "data": {
      "text/plain": [
       "GridSearchCV(estimator=LogisticRegression(n_jobs=-1, random_state=42),\n",
       "             n_jobs=-1,\n",
       "             param_grid=[{'C': [1.25, 1.5], 'penalty': ['l2'],\n",
       "                          'solver': ['lbfgs']}],\n",
       "             scoring='accuracy', verbose=5)"
      ]
     },
     "execution_count": 20,
     "metadata": {},
     "output_type": "execute_result"
    }
   ],
   "source": [
    "# fitting gridsearch on train data\n",
    "grid.fit(X_train_pca,y_train)"
   ]
  },
  {
   "cell_type": "code",
   "execution_count": 21,
   "metadata": {
    "execution": {
     "iopub.execute_input": "2021-02-13T17:16:52.200704Z",
     "iopub.status.busy": "2021-02-13T17:16:52.199783Z",
     "iopub.status.idle": "2021-02-13T17:16:52.205050Z",
     "shell.execute_reply": "2021-02-13T17:16:52.205526Z"
    },
    "papermill": {
     "duration": 0.034236,
     "end_time": "2021-02-13T17:16:52.205683",
     "exception": false,
     "start_time": "2021-02-13T17:16:52.171447",
     "status": "completed"
    },
    "tags": []
   },
   "outputs": [
    {
     "data": {
      "text/plain": [
       "{'C': 1.25, 'penalty': 'l2', 'solver': 'lbfgs'}"
      ]
     },
     "execution_count": 21,
     "metadata": {},
     "output_type": "execute_result"
    }
   ],
   "source": [
    "# getting best paramaters and accuracy score\n",
    "grid.best_params_"
   ]
  },
  {
   "cell_type": "code",
   "execution_count": 22,
   "metadata": {
    "execution": {
     "iopub.execute_input": "2021-02-13T17:16:52.261342Z",
     "iopub.status.busy": "2021-02-13T17:16:52.260494Z",
     "iopub.status.idle": "2021-02-13T17:16:52.263871Z",
     "shell.execute_reply": "2021-02-13T17:16:52.264313Z"
    },
    "papermill": {
     "duration": 0.033508,
     "end_time": "2021-02-13T17:16:52.264487",
     "exception": false,
     "start_time": "2021-02-13T17:16:52.230979",
     "status": "completed"
    },
    "tags": []
   },
   "outputs": [
    {
     "data": {
      "text/plain": [
       "0.9148299319727892"
      ]
     },
     "execution_count": 22,
     "metadata": {},
     "output_type": "execute_result"
    }
   ],
   "source": [
    "# getting best cv score\n",
    "grid.best_score_"
   ]
  },
  {
   "cell_type": "code",
   "execution_count": 23,
   "metadata": {
    "execution": {
     "iopub.execute_input": "2021-02-13T17:16:52.319587Z",
     "iopub.status.busy": "2021-02-13T17:16:52.318704Z",
     "iopub.status.idle": "2021-02-13T17:16:52.375902Z",
     "shell.execute_reply": "2021-02-13T17:16:52.376826Z"
    },
    "papermill": {
     "duration": 0.086822,
     "end_time": "2021-02-13T17:16:52.377078",
     "exception": false,
     "start_time": "2021-02-13T17:16:52.290256",
     "status": "completed"
    },
    "tags": []
   },
   "outputs": [
    {
     "data": {
      "text/plain": [
       "0.941734693877551"
      ]
     },
     "execution_count": 23,
     "metadata": {},
     "output_type": "execute_result"
    }
   ],
   "source": [
    "# we will use the best estimator model from grid search to predict \n",
    "y_pred=grid.best_estimator_.predict(X_train_pca)\n",
    "# checking accuracy on validation set\n",
    "accuracy_score(y_train,y_pred)"
   ]
  },
  {
   "cell_type": "code",
   "execution_count": 24,
   "metadata": {
    "execution": {
     "iopub.execute_input": "2021-02-13T17:16:52.489047Z",
     "iopub.status.busy": "2021-02-13T17:16:52.488134Z",
     "iopub.status.idle": "2021-02-13T17:16:52.657207Z",
     "shell.execute_reply": "2021-02-13T17:16:52.657744Z"
    },
    "papermill": {
     "duration": 0.231101,
     "end_time": "2021-02-13T17:16:52.657911",
     "exception": false,
     "start_time": "2021-02-13T17:16:52.426810",
     "status": "completed"
    },
    "tags": []
   },
   "outputs": [
    {
     "data": {
      "image/png": "[encoded data removed]",
      "text/plain": [
       "<Figure size 288x288 with 1 Axes>"
      ]
     },
     "metadata": {
      "needs_background": "light"
     },
     "output_type": "display_data"
    }
   ],
   "source": [
    "# printing the confusion matrix\n",
    "from sklearn.metrics import confusion_matrix\n",
    "confusion_mat=confusion_matrix(y_train,y_pred)\n",
    "plt.matshow(confusion_mat,cmap=plt.cm.gray)\n",
    "plt.show()"
   ]
  },
  {
   "cell_type": "markdown",
   "metadata": {
    "papermill": {
     "duration": 0.027696,
     "end_time": "2021-02-13T17:16:52.712955",
     "exception": false,
     "start_time": "2021-02-13T17:16:52.685259",
     "status": "completed"
    },
    "tags": []
   },
   "source": [
    "#### This shows that the digits were mostly classified correctly as the diagonal has the highest values"
   ]
  },
  {
   "cell_type": "code",
   "execution_count": 25,
   "metadata": {
    "execution": {
     "iopub.execute_input": "2021-02-13T17:16:52.772069Z",
     "iopub.status.busy": "2021-02-13T17:16:52.771177Z",
     "iopub.status.idle": "2021-02-13T17:16:52.776772Z",
     "shell.execute_reply": "2021-02-13T17:16:52.777295Z"
    },
    "papermill": {
     "duration": 0.036835,
     "end_time": "2021-02-13T17:16:52.777448",
     "exception": false,
     "start_time": "2021-02-13T17:16:52.740613",
     "status": "completed"
    },
    "tags": []
   },
   "outputs": [
    {
     "data": {
      "text/plain": [
       "array([[2819,    0,    8,    4,    3,   12,   24,    2,   17,    1],\n",
       "       [   0, 3200,   12,    9,    2,    8,    2,    5,   17,    5],\n",
       "       [  11,   16, 2774,   41,   27,   11,   21,   24,   45,    8],\n",
       "       [   9,   11,   58, 2788,    1,   93,    5,   19,   52,   19],\n",
       "       [   4,   11,   13,    1, 2728,    3,   17,    7,    9,   75],\n",
       "       [  20,    9,   22,   78,   21, 2361,   40,    7,   47,   12],\n",
       "       [  15,    3,   14,    1,   11,   29, 2800,    0,   14,    0],\n",
       "       [   1,    9,   20,   12,   17,    2,    1, 2970,    5,   80],\n",
       "       [  17,   36,   26,   60,    4,   61,   11,    7, 2575,   30],\n",
       "       [   8,   12,    3,   39,   65,   14,    0,   73,   15, 2672]])"
      ]
     },
     "execution_count": 25,
     "metadata": {},
     "output_type": "execute_result"
    }
   ],
   "source": [
    "confusion_mat # visualising the confusion matrix"
   ]
  },
  {
   "cell_type": "code",
   "execution_count": 26,
   "metadata": {
    "execution": {
     "iopub.execute_input": "2021-02-13T17:16:52.835307Z",
     "iopub.status.busy": "2021-02-13T17:16:52.834358Z",
     "iopub.status.idle": "2021-02-13T17:16:52.838561Z",
     "shell.execute_reply": "2021-02-13T17:16:52.839106Z"
    },
    "papermill": {
     "duration": 0.034785,
     "end_time": "2021-02-13T17:16:52.839268",
     "exception": false,
     "start_time": "2021-02-13T17:16:52.804483",
     "status": "completed"
    },
    "tags": []
   },
   "outputs": [],
   "source": [
    "row_sums=confusion_mat.sum(axis=1,keepdims=True ) # calculating the sum of each row\n",
    "TPR=confusion_mat/row_sums # number of correctly predicted labels for all of the actual labels present"
   ]
  },
  {
   "cell_type": "code",
   "execution_count": 27,
   "metadata": {
    "execution": {
     "iopub.execute_input": "2021-02-13T17:16:52.898913Z",
     "iopub.status.busy": "2021-02-13T17:16:52.898083Z",
     "iopub.status.idle": "2021-02-13T17:16:52.901172Z",
     "shell.execute_reply": "2021-02-13T17:16:52.900711Z"
    },
    "papermill": {
     "duration": 0.034699,
     "end_time": "2021-02-13T17:16:52.901300",
     "exception": false,
     "start_time": "2021-02-13T17:16:52.866601",
     "status": "completed"
    },
    "tags": []
   },
   "outputs": [],
   "source": [
    "np.fill_diagonal(TPR,0)"
   ]
  },
  {
   "cell_type": "code",
   "execution_count": 28,
   "metadata": {
    "execution": {
     "iopub.execute_input": "2021-02-13T17:16:52.959809Z",
     "iopub.status.busy": "2021-02-13T17:16:52.958898Z",
     "iopub.status.idle": "2021-02-13T17:16:53.100795Z",
     "shell.execute_reply": "2021-02-13T17:16:53.101322Z"
    },
    "papermill": {
     "duration": 0.172901,
     "end_time": "2021-02-13T17:16:53.101524",
     "exception": false,
     "start_time": "2021-02-13T17:16:52.928623",
     "status": "completed"
    },
    "tags": []
   },
   "outputs": [
    {
     "data": {
      "image/png": "[encoded data removed]",
      "text/plain": [
       "<Figure size 288x288 with 1 Axes>"
      ]
     },
     "metadata": {
      "needs_background": "light"
     },
     "output_type": "display_data"
    }
   ],
   "source": [
    "plt.matshow(TPR,cmap=plt.cm.gray)\n",
    "plt.show()\n",
    "# we can see that most errors were between: 4 and 9, 3 and 5, 5 and 8"
   ]
  },
  {
   "cell_type": "code",
   "execution_count": 29,
   "metadata": {
    "execution": {
     "iopub.execute_input": "2021-02-13T17:16:53.162856Z",
     "iopub.status.busy": "2021-02-13T17:16:53.161942Z",
     "iopub.status.idle": "2021-02-13T17:16:53.241136Z",
     "shell.execute_reply": "2021-02-13T17:16:53.241814Z"
    },
    "papermill": {
     "duration": 0.111562,
     "end_time": "2021-02-13T17:16:53.242046",
     "exception": false,
     "start_time": "2021-02-13T17:16:53.130484",
     "status": "completed"
    },
    "tags": []
   },
   "outputs": [
    {
     "name": "stdout",
     "output_type": "stream",
     "text": [
      "              precision    recall  f1-score   support\n",
      "\n",
      "           0       0.97      0.98      0.97      2890\n",
      "           1       0.97      0.98      0.97      3260\n",
      "           2       0.94      0.93      0.94      2978\n",
      "           3       0.92      0.91      0.92      3055\n",
      "           4       0.95      0.95      0.95      2868\n",
      "           5       0.91      0.90      0.91      2617\n",
      "           6       0.96      0.97      0.96      2887\n",
      "           7       0.95      0.95      0.95      3117\n",
      "           8       0.92      0.91      0.92      2827\n",
      "           9       0.92      0.92      0.92      2901\n",
      "\n",
      "    accuracy                           0.94     29400\n",
      "   macro avg       0.94      0.94      0.94     29400\n",
      "weighted avg       0.94      0.94      0.94     29400\n",
      "\n"
     ]
    }
   ],
   "source": [
    "# we will now check the classification metrics like precision, recall, F1 score\n",
    "from sklearn.metrics import classification_report\n",
    "print(classification_report(y_train,y_pred))"
   ]
  },
  {
   "cell_type": "code",
   "execution_count": 30,
   "metadata": {
    "execution": {
     "iopub.execute_input": "2021-02-13T17:16:53.304033Z",
     "iopub.status.busy": "2021-02-13T17:16:53.303346Z",
     "iopub.status.idle": "2021-02-13T17:16:55.198310Z",
     "shell.execute_reply": "2021-02-13T17:16:55.197522Z"
    },
    "papermill": {
     "duration": 1.927427,
     "end_time": "2021-02-13T17:16:55.198482",
     "exception": false,
     "start_time": "2021-02-13T17:16:53.271055",
     "status": "completed"
    },
    "tags": []
   },
   "outputs": [
    {
     "data": {
      "text/html": [
       "<div>\n",
       "<style scoped>\n",
       "    .dataframe tbody tr th:only-of-type {\n",
       "        vertical-align: middle;\n",
       "    }\n",
       "\n",
       "    .dataframe tbody tr th {\n",
       "        vertical-align: top;\n",
       "    }\n",
       "\n",
       "    .dataframe thead th {\n",
       "        text-align: right;\n",
       "    }\n",
       "</style>\n",
       "<table border=\"1\" class=\"dataframe\">\n",
       "  <thead>\n",
       "    <tr style=\"text-align: right;\">\n",
       "      <th></th>\n",
       "      <th>pixel0</th>\n",
       "      <th>pixel1</th>\n",
       "      <th>pixel2</th>\n",
       "      <th>pixel3</th>\n",
       "      <th>pixel4</th>\n",
       "      <th>pixel5</th>\n",
       "      <th>pixel6</th>\n",
       "      <th>pixel7</th>\n",
       "      <th>pixel8</th>\n",
       "      <th>pixel9</th>\n",
       "      <th>...</th>\n",
       "      <th>pixel774</th>\n",
       "      <th>pixel775</th>\n",
       "      <th>pixel776</th>\n",
       "      <th>pixel777</th>\n",
       "      <th>pixel778</th>\n",
       "      <th>pixel779</th>\n",
       "      <th>pixel780</th>\n",
       "      <th>pixel781</th>\n",
       "      <th>pixel782</th>\n",
       "      <th>pixel783</th>\n",
       "    </tr>\n",
       "  </thead>\n",
       "  <tbody>\n",
       "    <tr>\n",
       "      <th>0</th>\n",
       "      <td>0</td>\n",
       "      <td>0</td>\n",
       "      <td>0</td>\n",
       "      <td>0</td>\n",
       "      <td>0</td>\n",
       "      <td>0</td>\n",
       "      <td>0</td>\n",
       "      <td>0</td>\n",
       "      <td>0</td>\n",
       "      <td>0</td>\n",
       "      <td>...</td>\n",
       "      <td>0</td>\n",
       "      <td>0</td>\n",
       "      <td>0</td>\n",
       "      <td>0</td>\n",
       "      <td>0</td>\n",
       "      <td>0</td>\n",
       "      <td>0</td>\n",
       "      <td>0</td>\n",
       "      <td>0</td>\n",
       "      <td>0</td>\n",
       "    </tr>\n",
       "    <tr>\n",
       "      <th>1</th>\n",
       "      <td>0</td>\n",
       "      <td>0</td>\n",
       "      <td>0</td>\n",
       "      <td>0</td>\n",
       "      <td>0</td>\n",
       "      <td>0</td>\n",
       "      <td>0</td>\n",
       "      <td>0</td>\n",
       "      <td>0</td>\n",
       "      <td>0</td>\n",
       "      <td>...</td>\n",
       "      <td>0</td>\n",
       "      <td>0</td>\n",
       "      <td>0</td>\n",
       "      <td>0</td>\n",
       "      <td>0</td>\n",
       "      <td>0</td>\n",
       "      <td>0</td>\n",
       "      <td>0</td>\n",
       "      <td>0</td>\n",
       "      <td>0</td>\n",
       "    </tr>\n",
       "    <tr>\n",
       "      <th>2</th>\n",
       "      <td>0</td>\n",
       "      <td>0</td>\n",
       "      <td>0</td>\n",
       "      <td>0</td>\n",
       "      <td>0</td>\n",
       "      <td>0</td>\n",
       "      <td>0</td>\n",
       "      <td>0</td>\n",
       "      <td>0</td>\n",
       "      <td>0</td>\n",
       "      <td>...</td>\n",
       "      <td>0</td>\n",
       "      <td>0</td>\n",
       "      <td>0</td>\n",
       "      <td>0</td>\n",
       "      <td>0</td>\n",
       "      <td>0</td>\n",
       "      <td>0</td>\n",
       "      <td>0</td>\n",
       "      <td>0</td>\n",
       "      <td>0</td>\n",
       "    </tr>\n",
       "    <tr>\n",
       "      <th>3</th>\n",
       "      <td>0</td>\n",
       "      <td>0</td>\n",
       "      <td>0</td>\n",
       "      <td>0</td>\n",
       "      <td>0</td>\n",
       "      <td>0</td>\n",
       "      <td>0</td>\n",
       "      <td>0</td>\n",
       "      <td>0</td>\n",
       "      <td>0</td>\n",
       "      <td>...</td>\n",
       "      <td>0</td>\n",
       "      <td>0</td>\n",
       "      <td>0</td>\n",
       "      <td>0</td>\n",
       "      <td>0</td>\n",
       "      <td>0</td>\n",
       "      <td>0</td>\n",
       "      <td>0</td>\n",
       "      <td>0</td>\n",
       "      <td>0</td>\n",
       "    </tr>\n",
       "    <tr>\n",
       "      <th>4</th>\n",
       "      <td>0</td>\n",
       "      <td>0</td>\n",
       "      <td>0</td>\n",
       "      <td>0</td>\n",
       "      <td>0</td>\n",
       "      <td>0</td>\n",
       "      <td>0</td>\n",
       "      <td>0</td>\n",
       "      <td>0</td>\n",
       "      <td>0</td>\n",
       "      <td>...</td>\n",
       "      <td>0</td>\n",
       "      <td>0</td>\n",
       "      <td>0</td>\n",
       "      <td>0</td>\n",
       "      <td>0</td>\n",
       "      <td>0</td>\n",
       "      <td>0</td>\n",
       "      <td>0</td>\n",
       "      <td>0</td>\n",
       "      <td>0</td>\n",
       "    </tr>\n",
       "  </tbody>\n",
       "</table>\n",
       "<p>5 rows × 784 columns</p>\n",
       "</div>"
      ],
      "text/plain": [
       "   pixel0  pixel1  pixel2  pixel3  pixel4  pixel5  pixel6  pixel7  pixel8  \\\n",
       "0       0       0       0       0       0       0       0       0       0   \n",
       "1       0       0       0       0       0       0       0       0       0   \n",
       "2       0       0       0       0       0       0       0       0       0   \n",
       "3       0       0       0       0       0       0       0       0       0   \n",
       "4       0       0       0       0       0       0       0       0       0   \n",
       "\n",
       "   pixel9  ...  pixel774  pixel775  pixel776  pixel777  pixel778  pixel779  \\\n",
       "0       0  ...         0         0         0         0         0         0   \n",
       "1       0  ...         0         0         0         0         0         0   \n",
       "2       0  ...         0         0         0         0         0         0   \n",
       "3       0  ...         0         0         0         0         0         0   \n",
       "4       0  ...         0         0         0         0         0         0   \n",
       "\n",
       "   pixel780  pixel781  pixel782  pixel783  \n",
       "0         0         0         0         0  \n",
       "1         0         0         0         0  \n",
       "2         0         0         0         0  \n",
       "3         0         0         0         0  \n",
       "4         0         0         0         0  \n",
       "\n",
       "[5 rows x 784 columns]"
      ]
     },
     "execution_count": 30,
     "metadata": {},
     "output_type": "execute_result"
    }
   ],
   "source": [
    "X_test = pd.read_csv(\"/kaggle/input/digit-recognizer/test.csv\")  # reading the test file\n",
    "X_test.head()"
   ]
  },
  {
   "cell_type": "code",
   "execution_count": 31,
   "metadata": {
    "execution": {
     "iopub.execute_input": "2021-02-13T17:16:55.268646Z",
     "iopub.status.busy": "2021-02-13T17:16:55.267355Z",
     "iopub.status.idle": "2021-02-13T17:16:55.664006Z",
     "shell.execute_reply": "2021-02-13T17:16:55.664512Z"
    },
    "papermill": {
     "duration": 0.436885,
     "end_time": "2021-02-13T17:16:55.664699",
     "exception": false,
     "start_time": "2021-02-13T17:16:55.227814",
     "status": "completed"
    },
    "tags": []
   },
   "outputs": [],
   "source": [
    "pca_X_test=pipe.transform(X_test) # scaling and applying pca to test data"
   ]
  },
  {
   "cell_type": "code",
   "execution_count": 32,
   "metadata": {
    "execution": {
     "iopub.execute_input": "2021-02-13T17:16:55.783099Z",
     "iopub.status.busy": "2021-02-13T17:16:55.782098Z",
     "iopub.status.idle": "2021-02-13T17:16:55.815451Z",
     "shell.execute_reply": "2021-02-13T17:16:55.816004Z"
    },
    "papermill": {
     "duration": 0.096317,
     "end_time": "2021-02-13T17:16:55.816175",
     "exception": false,
     "start_time": "2021-02-13T17:16:55.719858",
     "status": "completed"
    },
    "tags": []
   },
   "outputs": [],
   "source": [
    "y_test_pred=grid.predict(pca_X_test)"
   ]
  },
  {
   "cell_type": "code",
   "execution_count": 33,
   "metadata": {
    "execution": {
     "iopub.execute_input": "2021-02-13T17:16:55.934756Z",
     "iopub.status.busy": "2021-02-13T17:16:55.933817Z",
     "iopub.status.idle": "2021-02-13T17:16:55.937724Z",
     "shell.execute_reply": "2021-02-13T17:16:55.938623Z"
    },
    "papermill": {
     "duration": 0.067162,
     "end_time": "2021-02-13T17:16:55.938878",
     "exception": false,
     "start_time": "2021-02-13T17:16:55.871716",
     "status": "completed"
    },
    "tags": []
   },
   "outputs": [
    {
     "data": {
      "text/plain": [
       "array([2, 0, 9, ..., 3, 9, 2])"
      ]
     },
     "execution_count": 33,
     "metadata": {},
     "output_type": "execute_result"
    }
   ],
   "source": [
    "y_test_pred    # the values predicted by our model"
   ]
  },
  {
   "cell_type": "code",
   "execution_count": 34,
   "metadata": {
    "execution": {
     "iopub.execute_input": "2021-02-13T17:16:56.003178Z",
     "iopub.status.busy": "2021-02-13T17:16:56.002277Z",
     "iopub.status.idle": "2021-02-13T17:16:56.005855Z",
     "shell.execute_reply": "2021-02-13T17:16:56.006373Z"
    },
    "papermill": {
     "duration": 0.037373,
     "end_time": "2021-02-13T17:16:56.006549",
     "exception": false,
     "start_time": "2021-02-13T17:16:55.969176",
     "status": "completed"
    },
    "tags": []
   },
   "outputs": [],
   "source": [
    "# we will crosscheck our predictions with test data"
   ]
  },
  {
   "cell_type": "code",
   "execution_count": 35,
   "metadata": {
    "execution": {
     "iopub.execute_input": "2021-02-13T17:16:56.069250Z",
     "iopub.status.busy": "2021-02-13T17:16:56.068318Z",
     "iopub.status.idle": "2021-02-13T17:16:56.074244Z",
     "shell.execute_reply": "2021-02-13T17:16:56.075156Z"
    },
    "papermill": {
     "duration": 0.039418,
     "end_time": "2021-02-13T17:16:56.075405",
     "exception": false,
     "start_time": "2021-02-13T17:16:56.035987",
     "status": "completed"
    },
    "tags": []
   },
   "outputs": [],
   "source": [
    "transformed=pipe.named_steps['pca'].inverse_transform(pca_X_test[0])  # decompressing the index 1 test digit"
   ]
  },
  {
   "cell_type": "code",
   "execution_count": 36,
   "metadata": {
    "execution": {
     "iopub.execute_input": "2021-02-13T17:16:56.196152Z",
     "iopub.status.busy": "2021-02-13T17:16:56.195201Z",
     "iopub.status.idle": "2021-02-13T17:16:56.314871Z",
     "shell.execute_reply": "2021-02-13T17:16:56.314252Z"
    },
    "papermill": {
     "duration": 0.183027,
     "end_time": "2021-02-13T17:16:56.315008",
     "exception": false,
     "start_time": "2021-02-13T17:16:56.131981",
     "status": "completed"
    },
    "tags": []
   },
   "outputs": [
    {
     "data": {
      "image/png": "[encoded data removed]",
      "text/plain": [
       "<Figure size 432x288 with 1 Axes>"
      ]
     },
     "metadata": {
      "needs_background": "light"
     },
     "output_type": "display_data"
    }
   ],
   "source": [
    "transformed=transformed.reshape(28,28)   # we can see that our model predicts 2 too at index 0\n",
    "plt.imshow(transformed)\n",
    "plt.show()"
   ]
  },
  {
   "cell_type": "code",
   "execution_count": 37,
   "metadata": {
    "execution": {
     "iopub.execute_input": "2021-02-13T17:16:56.399902Z",
     "iopub.status.busy": "2021-02-13T17:16:56.398905Z",
     "iopub.status.idle": "2021-02-13T17:16:56.404697Z",
     "shell.execute_reply": "2021-02-13T17:16:56.405618Z"
    },
    "papermill": {
     "duration": 0.058244,
     "end_time": "2021-02-13T17:16:56.405845",
     "exception": false,
     "start_time": "2021-02-13T17:16:56.347601",
     "status": "completed"
    },
    "tags": []
   },
   "outputs": [
    {
     "name": "stdout",
     "output_type": "stream",
     "text": [
      "       ImageId  Label\n",
      "0            1      2\n",
      "1            2      0\n",
      "2            3      9\n",
      "3            4      7\n",
      "4            5      3\n",
      "...        ...    ...\n",
      "27995    27996      9\n",
      "27996    27997      7\n",
      "27997    27998      3\n",
      "27998    27999      9\n",
      "27999    28000      2\n",
      "\n",
      "[28000 rows x 2 columns]\n"
     ]
    }
   ],
   "source": [
    "submission = pd.DataFrame({'ImageId': range(1,len(y_test_pred)+1),\n",
    "                           'Label': y_test_pred})\n",
    "print(submission)"
   ]
  },
  {
   "cell_type": "code",
   "execution_count": 38,
   "metadata": {
    "execution": {
     "iopub.execute_input": "2021-02-13T17:16:56.501350Z",
     "iopub.status.busy": "2021-02-13T17:16:56.500320Z",
     "iopub.status.idle": "2021-02-13T17:16:56.542088Z",
     "shell.execute_reply": "2021-02-13T17:16:56.541527Z"
    },
    "papermill": {
     "duration": 0.088682,
     "end_time": "2021-02-13T17:16:56.542232",
     "exception": false,
     "start_time": "2021-02-13T17:16:56.453550",
     "status": "completed"
    },
    "tags": []
   },
   "outputs": [
    {
     "name": "stdout",
     "output_type": "stream",
     "text": [
      "       ImageId  Label\n",
      "0            1      2\n",
      "1            2      0\n",
      "2            3      9\n",
      "3            4      7\n",
      "4            5      3\n",
      "...        ...    ...\n",
      "27995    27996      9\n",
      "27996    27997      7\n",
      "27997    27998      3\n",
      "27998    27999      9\n",
      "27999    28000      2\n",
      "\n",
      "[28000 rows x 2 columns]\n"
     ]
    }
   ],
   "source": [
    "submission.to_csv('out.csv', header=True, index = False)   # Generating output csv\n",
    "print(submission)"
   ]
  },
  {
   "cell_type": "code",
   "execution_count": null,
   "metadata": {
    "papermill": {
     "duration": 0.031167,
     "end_time": "2021-02-13T17:16:56.604577",
     "exception": false,
     "start_time": "2021-02-13T17:16:56.573410",
     "status": "completed"
    },
    "tags": []
   },
   "outputs": [],
   "source": []
  }
 ],
 "metadata": {
  "kernelspec": {
   "display_name": "Python 3",
   "language": "python",
   "name": "python3"
  },
  "language_info": {
   "codemirror_mode": {
    "name": "ipython",
    "version": 3
   },
   "file_extension": ".py",
   "mimetype": "text/x-python",
   "name": "python",
   "nbconvert_exporter": "python",
   "pygments_lexer": "ipython3",
   "version": "3.7.9"
  },
  "papermill": {
   "default_parameters": {},
   "duration": 55.607931,
   "end_time": "2021-02-13T17:16:57.549735",
   "environment_variables": {},
   "exception": null,
   "input_path": "__notebook__.ipynb",
   "output_path": "__notebook__.ipynb",
   "parameters": {},
   "start_time": "2021-02-13T17:16:01.941804",
   "version": "2.2.2"
  }
 },
 "nbformat": 4,
 "nbformat_minor": 4
}
